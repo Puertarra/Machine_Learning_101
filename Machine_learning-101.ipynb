{
 "cells": [
  {
   "cell_type": "markdown",
   "metadata": {},
   "source": [
    "# Machine Learning-101\n",
    "\n",
    "### Predecir a partir de tus datos\n",
    "\n",
    "\n",
    "En este notebook daremos una visión muy básica del Machine Learning con Python. Utilizaremos otra librería muy popular llamada **sklearn**\n",
    "\n",
    "Preparado por: Andrés Leiva Araos -@ALeivaAraos\n",
    "\n",
    "Este notebook está basado en el trabajo de Matt Harrison [*Learning the Pandas Library*](https://www.amazon.com/Learning-Pandas-Library-Munging-Analysis/dp/153359824X/ref=sr_1_3?ie=UTF8&qid=1505448275&sr=8-3&keywords=python+pandas)."
   ]
  },
  {
   "cell_type": "code",
   "execution_count": null,
   "metadata": {},
   "outputs": [],
   "source": [
    "import pandas as pd\n",
    "import matplotlib\n",
    "%matplotlib inline \n",
    "import numpy as np\n",
    "nyc = pd.read_csv('data/central-park-raw.csv', parse_dates=[0])"
   ]
  },
  {
   "cell_type": "code",
   "execution_count": null,
   "metadata": {},
   "outputs": [],
   "source": [
    "nyc[:10].T"
   ]
  },
  {
   "cell_type": "code",
   "execution_count": null,
   "metadata": {},
   "outputs": [],
   "source": [
    "# Aplicamos las transformaciones del notebook anterior\n",
    "\n",
    "nyc.columns = [x.strip() for x in nyc.columns]\n",
    "nyc.columns = [x.replace(' ', '_') for x in nyc.columns]\n",
    "nyc.PrecipitationIn.replace(\"T\", '0.001')\n",
    "nyc.PrecipitationIn = pd.to_numeric(nyc.PrecipitationIn.replace(\"T\", '0.001'))\n",
    "nyc['Events'] = nyc.Events.fillna('')"
   ]
  },
  {
   "cell_type": "code",
   "execution_count": null,
   "metadata": {},
   "outputs": [],
   "source": [
    "nyc[:10].T"
   ]
  },
  {
   "cell_type": "markdown",
   "metadata": {},
   "source": [
    "# Machine Learning\n",
    "\n",
    "Pandas tiene una integración natural con la librería **sklearn**.\n",
    "\n",
    "Intentemos predecir la humedad (``y``) a partir de otras columnas (``X``).\n",
    "\n",
    "Entrenaremos un modelo de [Random Forest](https://es.wikipedia.org/wiki/Random_forest) con una muestra de nuestra data, luego evaluaremos nuestro modelo con otra muestra distinta. A esta técnica se le denomina **cross-validation**.\n",
    "\n",
    "[Como funcionan los Random Forrest](http://randomforest2013.blogspot.com/2013/05/randomforest-definicion-random-forests.html)"
   ]
  },
  {
   "cell_type": "code",
   "execution_count": null,
   "metadata": {},
   "outputs": [],
   "source": [
    "# Cargamos las librerías de sklearn\n",
    "from sklearn.ensemble import RandomForestRegressor\n",
    "from sklearn import metrics\n",
    "from sklearn.model_selection import train_test_split"
   ]
  },
  {
   "cell_type": "code",
   "execution_count": null,
   "metadata": {
    "scrolled": true
   },
   "outputs": [],
   "source": [
    "nyc.columns"
   ]
  },
  {
   "cell_type": "code",
   "execution_count": null,
   "metadata": {
    "scrolled": true
   },
   "outputs": [],
   "source": [
    "# Seleccionamos la columna Mean_Humidity y la concatenamos consigo misma pero desfasada en un día\n",
    "# Completamos la concatenación con la fecha EST al inicio\n",
    "pd.concat([nyc.EST, nyc.Mean_Humidity, nyc.Mean_Humidity.shift(1)], axis=1)"
   ]
  },
  {
   "cell_type": "code",
   "execution_count": null,
   "metadata": {},
   "outputs": [],
   "source": [
    "nyc.__len__()"
   ]
  },
  {
   "cell_type": "code",
   "execution_count": null,
   "metadata": {},
   "outputs": [],
   "source": [
    "# Regresion - Intentemos predecir Mean_Humidity (y) a partir de otras columnas distintas (X)\n",
    "# Obtenemos el set de datos para entrenamiento del modelo (X_train)\n",
    "# Shift Humidity down to predict next day\n",
    "X = nyc[[x for x in nyc.columns if 'Humid' not in x]]\n",
    "y = nyc.Mean_Humidity.shift(1)\n",
    "X_train, X_test, y_train, y_test = train_test_split(X, y, random_state=42)"
   ]
  },
  {
   "cell_type": "code",
   "execution_count": null,
   "metadata": {},
   "outputs": [],
   "source": [
    "X.columns"
   ]
  },
  {
   "cell_type": "code",
   "execution_count": null,
   "metadata": {},
   "outputs": [],
   "source": [
    "# Imprime y comprara los largos de los datasets\n",
    "# Quéporcentaje destinó a entrenamiento (train) y a prueba (test)?\n",
    "# Tu código aquí...\n"
   ]
  },
  {
   "cell_type": "code",
   "execution_count": null,
   "metadata": {
    "scrolled": false
   },
   "outputs": [],
   "source": [
    "# Creamos el modelo \n",
    "rf_model = RandomForestRegressor()\n",
    "rf_model.fit(X_train, y_train)\n",
    "\n"
   ]
  },
  {
   "cell_type": "code",
   "execution_count": null,
   "metadata": {},
   "outputs": [],
   "source": [
    "# Necesitamos convertir las variables categóricas en cuantitativas\n",
    "nyc_dummy = pd.get_dummies(nyc, columns=['Events'])\n",
    "nyc_dummy.head()"
   ]
  },
  {
   "cell_type": "code",
   "execution_count": null,
   "metadata": {},
   "outputs": [],
   "source": [
    "# Volvemos a intentarlo ...\n",
    "X = nyc_dummy[[x for x in nyc_dummy.columns if 'Humid' not in x]]\n",
    "y = nyc_dummy.Mean_Humidity.shift(1)\n",
    "X_train, X_test, y_train, y_test = train_test_split(X, y, random_state=42)"
   ]
  },
  {
   "cell_type": "code",
   "execution_count": null,
   "metadata": {},
   "outputs": [],
   "source": [
    "X.T"
   ]
  },
  {
   "cell_type": "code",
   "execution_count": null,
   "metadata": {
    "scrolled": false
   },
   "outputs": [],
   "source": [
    "# Creamos el modelo (problemas con los floats)\n",
    "rf_model = RandomForestRegressor()\n",
    "rf_model.fit(X_train, y_train)\n",
    "\n"
   ]
  },
  {
   "cell_type": "code",
   "execution_count": null,
   "metadata": {},
   "outputs": [],
   "source": [
    "# Eliminamos el timestamp\n",
    "# Volvemos a intentar ...\n",
    "def valid(col):\n",
    "    return 'Humid' not in col and 'EST' not in col\n",
    "X = nyc_dummy[[x for x in nyc_dummy.columns if valid(x)]]\n",
    "y = nyc_dummy.Mean_Humidity.shift(1)\n",
    "X_train, X_test, y_train, y_test = train_test_split(X, y, random_state=42)"
   ]
  },
  {
   "cell_type": "code",
   "execution_count": null,
   "metadata": {
    "scrolled": false
   },
   "outputs": [],
   "source": [
    "# Modelamos ...\n",
    "rf_model = RandomForestRegressor()\n",
    "rf_model.fit(X_train, y_train)"
   ]
  },
  {
   "cell_type": "code",
   "execution_count": null,
   "metadata": {},
   "outputs": [],
   "source": [
    "# Necesitamos eliminar los NA\n",
    "# Usamos el método dropna()\n",
    "def valid(col):\n",
    "    return 'Humid' not in col and 'EST' not in col\n",
    "nyc_dummy = nyc_dummy.dropna()\n",
    "X = nyc_dummy[[x for x in nyc_dummy.columns if valid(x)]].iloc[1:]\n",
    "y = nyc_dummy.Mean_Humidity.shift(1).dropna()\n",
    "X_train, X_test, y_train, y_test = train_test_split(X, y, random_state=42)"
   ]
  },
  {
   "cell_type": "code",
   "execution_count": null,
   "metadata": {
    "scrolled": true
   },
   "outputs": [],
   "source": [
    "# Modelamos ...\n",
    "rf_model = RandomForestRegressor()\n",
    "rf_model.fit(X_train, y_train)"
   ]
  },
  {
   "cell_type": "code",
   "execution_count": null,
   "metadata": {},
   "outputs": [],
   "source": [
    "# Medimos R2 (indicador de precisión del modelo 1 es perfecto 0 es terrible)\n",
    "rf_model.score(X_test, y_test)"
   ]
  },
  {
   "cell_type": "code",
   "execution_count": null,
   "metadata": {},
   "outputs": [],
   "source": [
    "type(y_test)"
   ]
  },
  {
   "cell_type": "code",
   "execution_count": null,
   "metadata": {
    "scrolled": true
   },
   "outputs": [],
   "source": [
    "pd.concat([pd.Series(rf_model.predict(X_test)), y_test.reset_index(\n",
    "drop=True)], axis=1)"
   ]
  },
  {
   "cell_type": "code",
   "execution_count": null,
   "metadata": {},
   "outputs": [],
   "source": [
    "sorted(zip(X.columns, rf_model.feature_importances_),\n",
    "        key=lambda x: x[1], reverse=True)"
   ]
  },
  {
   "cell_type": "code",
   "execution_count": null,
   "metadata": {},
   "outputs": [],
   "source": []
  }
 ],
 "metadata": {
  "kernelspec": {
   "display_name": "Python 3",
   "language": "python",
   "name": "python3"
  },
  "language_info": {
   "codemirror_mode": {
    "name": "ipython",
    "version": 3
   },
   "file_extension": ".py",
   "mimetype": "text/x-python",
   "name": "python",
   "nbconvert_exporter": "python",
   "pygments_lexer": "ipython3",
   "version": "3.6.4"
  }
 },
 "nbformat": 4,
 "nbformat_minor": 2
}
