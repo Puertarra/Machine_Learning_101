{
 "cells": [
  {
   "cell_type": "markdown",
   "metadata": {},
   "source": [
    "# Pandas-101\n",
    "\n",
    "### Importar, explorar y modificar sus datos\n",
    "\n",
    "\n",
    "La biblioteca de pandas es muy popular entre los científicos de datos, quants, adictos a Excel y desarrolladores de Python porque le permite realizar la ingestión, exportación, transformación y visualización de datos con facilidad. Pero si solo está familiarizado con Python, los pandas pueden presentar algunos desafíos. Dado que los pandas están inspirados en Numpy, sus convenciones de sintaxis pueden ser confusas para los desarrolladores de Python.\n",
    "\n",
    "Preparado por: Andrés Leiva Araos -@ALeivaAraos\n",
    "\n",
    "Este notebook está basado en el trabajo de Matt Harrison [*Learning the Pandas Library*](https://www.amazon.com/Learning-Pandas-Library-Munging-Analysis/dp/153359824X/ref=sr_1_3?ie=UTF8&qid=1505448275&sr=8-3&keywords=python+pandas)."
   ]
  },
  {
   "cell_type": "markdown",
   "metadata": {},
   "source": [
    "# Configuración"
   ]
  },
  {
   "cell_type": "code",
   "execution_count": null,
   "metadata": {},
   "outputs": [],
   "source": [
    "import pandas as pd\n",
    "import matplotlib\n",
    "import numpy as np\n",
    "\n",
    "pd.__version__, matplotlib.__version__, np.__version__"
   ]
  },
  {
   "cell_type": "code",
   "execution_count": null,
   "metadata": {},
   "outputs": [],
   "source": [
    "# test for unicode\n",
    "'\\N{dragon}'"
   ]
  },
  {
   "cell_type": "code",
   "execution_count": null,
   "metadata": {},
   "outputs": [],
   "source": [
    "import sys\n",
    "sys.getdefaultencoding() "
   ]
  },
  {
   "cell_type": "code",
   "execution_count": null,
   "metadata": {},
   "outputs": [],
   "source": [
    "sys.version"
   ]
  },
  {
   "cell_type": "markdown",
   "metadata": {},
   "source": [
    "# Introducción a Pandas\n",
    "\n",
    "## Instalación\n",
    "\n",
    "En **Configuración** no deberías tener problemas con Pandas ya que viene por defecto en la instalación de Anaconda. Si por algún motivo te da problemas, debes instalarlo.\n",
    "\n",
    "Ejecuta <br>\n",
    "``pip install pandas`` \n",
    "<br> o <br>\n",
    "``conda install pandas``"
   ]
  },
  {
   "cell_type": "code",
   "execution_count": null,
   "metadata": {},
   "outputs": [],
   "source": [
    "# pandas tiene dos estructuras de datos principales: Series y DataFrame\n",
    "# Una Series es como una columna de una hoja de cálculo\n",
    "\n",
    "s = pd.Series([40, 44, 26, 17])"
   ]
  },
  {
   "cell_type": "code",
   "execution_count": null,
   "metadata": {},
   "outputs": [],
   "source": [
    "s"
   ]
  },
  {
   "cell_type": "code",
   "execution_count": null,
   "metadata": {},
   "outputs": [],
   "source": [
    "# La Serie tiene un índice\n",
    "s.index"
   ]
  },
  {
   "cell_type": "code",
   "execution_count": null,
   "metadata": {},
   "outputs": [],
   "source": [
    "# Un DataFrame es como una hoja de cálculo complets; con muchas columnas\n",
    "\n",
    "df = pd.DataFrame({'nombre': ['Andres', 'Juan', 'Ana', 'Cristina'], 'edad': s})"
   ]
  },
  {
   "cell_type": "code",
   "execution_count": null,
   "metadata": {},
   "outputs": [],
   "source": [
    "df"
   ]
  },
  {
   "cell_type": "code",
   "execution_count": null,
   "metadata": {},
   "outputs": [],
   "source": [
    "# Los Dataframe también tienen índice ...\n",
    "df.index"
   ]
  },
  {
   "cell_type": "code",
   "execution_count": null,
   "metadata": {},
   "outputs": [],
   "source": [
    "# ... y valores\n",
    "df.values"
   ]
  },
  {
   "cell_type": "code",
   "execution_count": null,
   "metadata": {},
   "outputs": [],
   "source": [
    "# Podemos hacer \"tab completion\" para encontrar los métodos de los objetos existentes\n",
    "# Intenta buscar el método \"axes\"\n",
    "df."
   ]
  },
  {
   "cell_type": "markdown",
   "metadata": {},
   "source": [
    "# Datasets\n",
    "Para esta clase veremos algunos datos de series de tiempo. Los datos corresponden al clima de Central Park y de El Niño.\n",
    "\n",
    "## Clima del Central Park en NY\n",
    "\n",
    "\n",
    "https://pastebin.com/vaB6QQGp\n",
    "\n",
    "## El Nino\n",
    "\n",
    "https://archive.ics.uci.edu/ml/datasets/El+Nino"
   ]
  },
  {
   "cell_type": "code",
   "execution_count": null,
   "metadata": {},
   "outputs": [],
   "source": [
    "# con %matplotlib inline podemos visualizar los gráficos hechos con Matplotlib en el propio notebook\n",
    "%matplotlib inline\n",
    "\n",
    "import pandas as pd\n",
    "import numpy as np "
   ]
  },
  {
   "cell_type": "markdown",
   "metadata": {},
   "source": [
    "# Datos del Central Park en NY\n",
    "Hay varias funciones ``pd.read_`` para ingestar data"
   ]
  },
  {
   "cell_type": "code",
   "execution_count": null,
   "metadata": {},
   "outputs": [],
   "source": [
    "%ls data/\n",
    "# verificar si existe el archivo central-park-raw.csv"
   ]
  },
  {
   "cell_type": "markdown",
   "metadata": {},
   "source": [
    "Buscando ayuda en línea"
   ]
  },
  {
   "cell_type": "code",
   "execution_count": null,
   "metadata": {},
   "outputs": [],
   "source": [
    "# ejecuta esto\n",
    "pd.read_csv?\n",
    "# para salir de la ayuda presiona <esc>"
   ]
  },
  {
   "cell_type": "code",
   "execution_count": null,
   "metadata": {},
   "outputs": [],
   "source": [
    "# por el cursor despues de la v y presiona <shift+tab> varias veces\n",
    "pd.read_csv\n",
    "# para salir de la ayuda presiona <esc>"
   ]
  },
  {
   "cell_type": "code",
   "execution_count": null,
   "metadata": {
    "scrolled": true
   },
   "outputs": [],
   "source": [
    "# carguemos la data y asignamos la columna 0 como fecha \n",
    "nyc = pd.read_csv('data/central-park-raw.csv', parse_dates=[0])\n",
    "\n",
    "nyc"
   ]
  },
  {
   "cell_type": "code",
   "execution_count": null,
   "metadata": {},
   "outputs": [],
   "source": [
    "# Veamos las primeras líneas del Dataframe\n",
    "nyc.head()"
   ]
  },
  {
   "cell_type": "code",
   "execution_count": null,
   "metadata": {},
   "outputs": [],
   "source": [
    "# Número de registros\n",
    "nyc.__len__()"
   ]
  },
  {
   "cell_type": "markdown",
   "metadata": {},
   "source": [
    "## Data de El Niño\n",
    "\n",
    "Carguemos la data de El Niño desde el sitio web de UCI Machine Learning Repository:\n",
    "\n",
    "El [website](https://archive.ics.uci.edu/ml/datasets/El+Nino) dice:\n",
    "\n",
    "    The data is stored in an ASCII files with one observation per line. Spaces separate fields and periods (.) denote missing values.\n",
    "\n",
    "Tips:\n",
    "\n",
    "* Carge la data ``data/tao-all2.dat.gz`` en un Dataframe utilizando ``pd.read_csv``.\n",
    "* Use la variable ``names`` para darle nombre a las columnas. Los nombres de las columna están en el sitio web.\n",
    "* Reemplace campos vacíos (``.``) con ``NaN``. \n",
    "* Ponga las columnas de año, mes y día en una única columna utilizando el parámetro ``parse_dates`` (ver info en  ``pd.read_csv?`` ).\n",
    "\n",
    "Datos gentileza de:<br>\n",
    "Dua, D. and Karra Taniskidou, E. (2017).<br>\n",
    "[UCI Machine Learning Repository](http://archive.ics.uci.edu/ml). Irvine, CA<br>\n",
    "University of California, School of Information and Computer Science.\n",
    "\n"
   ]
  },
  {
   "cell_type": "code",
   "execution_count": null,
   "metadata": {},
   "outputs": [],
   "source": [
    "# Los nombres de las columna se obtienen de tao-all2.col desde website\n",
    "# las tres comillas se utilizan para incluir un string en más de una fila\n",
    "\n",
    "names = '''obs\n",
    "year\n",
    "month\n",
    "day\n",
    "date\n",
    "latitude\n",
    "longitude\n",
    "zon.winds\n",
    "mer.winds\n",
    "humidity\n",
    "air temp.\n",
    "s.s.temp.'''.split('\\n')"
   ]
  },
  {
   "cell_type": "code",
   "execution_count": null,
   "metadata": {},
   "outputs": [],
   "source": [
    "# split nos devuelve una lista con los nombres de las columnas\n",
    "names"
   ]
  },
  {
   "cell_type": "code",
   "execution_count": null,
   "metadata": {},
   "outputs": [],
   "source": [
    "nino = pd.read_csv('data/tao-all2.dat.gz', sep=' ', names=names, na_values='.', \n",
    "                   parse_dates=[[1,2,3]])"
   ]
  },
  {
   "cell_type": "code",
   "execution_count": null,
   "metadata": {},
   "outputs": [],
   "source": [
    "nino"
   ]
  },
  {
   "cell_type": "code",
   "execution_count": null,
   "metadata": {},
   "outputs": [],
   "source": [
    "# Esto nos desordena un poco el notebook. Que tal si limitamos la cantidad de líneas desplegadas?\n",
    "pd.options.display.max_rows = 10"
   ]
  },
  {
   "cell_type": "code",
   "execution_count": null,
   "metadata": {},
   "outputs": [],
   "source": [
    "nino"
   ]
  },
  {
   "cell_type": "markdown",
   "metadata": {},
   "source": [
    "# Inspeccionemos la data"
   ]
  },
  {
   "cell_type": "code",
   "execution_count": null,
   "metadata": {},
   "outputs": [],
   "source": [
    "# Las columnas son índices \n",
    "nyc.columns"
   ]
  },
  {
   "cell_type": "code",
   "execution_count": null,
   "metadata": {},
   "outputs": [],
   "source": [
    "# Miremos los tipos de datos a ver si están correctos; ello no siempre ocurre.\n",
    "nyc.dtypes"
   ]
  },
  {
   "cell_type": "code",
   "execution_count": null,
   "metadata": {},
   "outputs": [],
   "source": [
    "# Cuánto espacio ocupa?\n",
    "nyc.info()"
   ]
  },
  {
   "cell_type": "code",
   "execution_count": null,
   "metadata": {
    "scrolled": true
   },
   "outputs": [],
   "source": [
    "# Veamos la primeras 8 líneas\n",
    "nyc.head(8)"
   ]
  },
  {
   "cell_type": "code",
   "execution_count": null,
   "metadata": {},
   "outputs": [],
   "source": [
    "# Transponer la data nos da otra vista interesante. Dos métodos para lo mismo\n",
    "#nyc.transpose()\n",
    "nyc.T"
   ]
  },
  {
   "cell_type": "code",
   "execution_count": null,
   "metadata": {},
   "outputs": [],
   "source": [
    "# Número de registrios\n",
    "nyc.__len__()"
   ]
  },
  {
   "cell_type": "code",
   "execution_count": null,
   "metadata": {},
   "outputs": [],
   "source": [
    "# Filas x columnas\n",
    "nyc.shape"
   ]
  },
  {
   "cell_type": "code",
   "execution_count": null,
   "metadata": {},
   "outputs": [],
   "source": [
    "# Podemos usar el método .set_index para cambiar la columna índice\n",
    "# visualizamos 3 registros\n",
    "\n",
    "nyc.set_index('EST')[:3]"
   ]
  },
  {
   "cell_type": "code",
   "execution_count": null,
   "metadata": {},
   "outputs": [],
   "source": [
    "# deshacer .set_index con .reset_index\n",
    "nyc.set_index('EST').reset_index()[:3]"
   ]
  },
  {
   "cell_type": "markdown",
   "metadata": {},
   "source": [
    "## Inspeccionemos la data \n",
    "\n",
    "Inspecciona la data de El Nino.\n",
    " \n",
    "* Columnas del Dataframe?\n",
    "* Tipos de las columnas del Dataframe?\n",
    "* Imprima las primeras 8 líneas?\n",
    "* Transponga la data?\n",
    "* Formato (shape) del Dataframe?"
   ]
  },
  {
   "cell_type": "code",
   "execution_count": null,
   "metadata": {},
   "outputs": [],
   "source": [
    "# Tu código aquí ...\n"
   ]
  },
  {
   "cell_type": "code",
   "execution_count": null,
   "metadata": {},
   "outputs": [],
   "source": [
    "# Tu código aquí ...\n"
   ]
  },
  {
   "cell_type": "code",
   "execution_count": null,
   "metadata": {},
   "outputs": [],
   "source": [
    "# Tu código aquí ...\n"
   ]
  },
  {
   "cell_type": "code",
   "execution_count": null,
   "metadata": {},
   "outputs": [],
   "source": [
    "# Tu código aquí ...\n"
   ]
  },
  {
   "cell_type": "code",
   "execution_count": null,
   "metadata": {},
   "outputs": [],
   "source": [
    "# Tu código aquí ...\n"
   ]
  },
  {
   "cell_type": "markdown",
   "metadata": {},
   "source": [
    "# Retoquemos (tweak) la data\n",
    "\n",
    "  * En Data Science, el 80% del tiempo se consume preparando (curando) la data."
   ]
  },
  {
   "cell_type": "code",
   "execution_count": null,
   "metadata": {},
   "outputs": [],
   "source": [
    "# Inspeccconamos las columnas. Pandas intentará inferir los tipos desde los archivos CSV, \n",
    "# pero no siempre hace lo correcto.\n",
    "# A veces los datos tienen más de un tipo por columna.\n",
    "nyc.dtypes"
   ]
  },
  {
   "cell_type": "code",
   "execution_count": null,
   "metadata": {},
   "outputs": [],
   "source": [
    "# Removemos espacios al inicio y final de las columnas\n",
    "nyc.columns = [x.strip() for x in nyc.columns]"
   ]
  },
  {
   "cell_type": "code",
   "execution_count": null,
   "metadata": {},
   "outputs": [],
   "source": [
    "nyc[:3]"
   ]
  },
  {
   "cell_type": "code",
   "execution_count": null,
   "metadata": {},
   "outputs": [],
   "source": [
    "# Ponemos underscores para facilitar el acceso de Python a los nombres de las columnas\n",
    "nyc.columns = [x.replace(' ', '_') for x in nyc.columns]"
   ]
  },
  {
   "cell_type": "code",
   "execution_count": null,
   "metadata": {},
   "outputs": [],
   "source": [
    "nyc[:3]"
   ]
  },
  {
   "cell_type": "code",
   "execution_count": null,
   "metadata": {
    "scrolled": true
   },
   "outputs": [],
   "source": [
    "# Para columnas no-numéricas, .value_counts nos da el conteo de la data.\n",
    "# value_counts opera como un histograma. Devuelve una Serie\n",
    "# Lo lógico debería ser que las precipitaciones son numéricas ...\n",
    "\n",
    "nyc.PrecipitationIn.value_counts()"
   ]
  },
  {
   "cell_type": "code",
   "execution_count": null,
   "metadata": {},
   "outputs": [],
   "source": [
    "# Hay una 'T' por ahí. \n",
    "# Probablemente reprecenta 'Trace amount of rain' (rastro de lluvia); esto es una \n",
    "# pequeña cantidad de lluvia que no se mide dado que la unidad de medida es en pulgadas\n",
    "# Reemplacémosla por 0.001\n",
    "nyc.PrecipitationIn.replace(\"T\", '0.001')"
   ]
  },
  {
   "cell_type": "code",
   "execution_count": null,
   "metadata": {},
   "outputs": [],
   "source": [
    "nyc.PrecipitationIn.value_counts()"
   ]
  },
  {
   "cell_type": "code",
   "execution_count": null,
   "metadata": {},
   "outputs": [],
   "source": [
    "# Tenemos tipos de datos mezclados\n",
    "nyc.PrecipitationIn.dtypes"
   ]
  },
  {
   "cell_type": "code",
   "execution_count": null,
   "metadata": {},
   "outputs": [],
   "source": [
    "# Convirtámosla a dato numérico\n",
    "nyc.PrecipitationIn = pd.to_numeric(nyc.PrecipitationIn.replace(\"T\", '0.001'))"
   ]
  },
  {
   "cell_type": "code",
   "execution_count": null,
   "metadata": {},
   "outputs": [],
   "source": [
    "nyc.PrecipitationIn.value_counts()"
   ]
  },
  {
   "cell_type": "code",
   "execution_count": null,
   "metadata": {},
   "outputs": [],
   "source": [
    "nyc.PrecipitationIn.dtypes"
   ]
  },
  {
   "cell_type": "code",
   "execution_count": null,
   "metadata": {},
   "outputs": [],
   "source": [
    "nyc.Events.value_counts()"
   ]
  },
  {
   "cell_type": "code",
   "execution_count": null,
   "metadata": {},
   "outputs": [],
   "source": [
    "# Si queremos contar un tipo específico de valor\n",
    "nyc.Events[nyc.Events == 'Rain'].count()"
   ]
  },
  {
   "cell_type": "code",
   "execution_count": null,
   "metadata": {
    "scrolled": true
   },
   "outputs": [],
   "source": [
    "# Podemos ejecutar operaciones sobre string a nivel de columnas.\n",
    "# Intentemos poner todo en mayusculas con el método upper()\n",
    "nyc.Events.str.upper()"
   ]
  },
  {
   "cell_type": "code",
   "execution_count": null,
   "metadata": {},
   "outputs": [],
   "source": [
    "type(nyc.Events[1])"
   ]
  },
  {
   "cell_type": "code",
   "execution_count": null,
   "metadata": {},
   "outputs": [],
   "source": [
    "# Parece que tenemos dados mixtos en la columna; str y float \n",
    "type(nyc.Events[0])"
   ]
  },
  {
   "cell_type": "code",
   "execution_count": null,
   "metadata": {},
   "outputs": [],
   "source": [
    "set(nyc.Events.apply(type))"
   ]
  },
  {
   "cell_type": "code",
   "execution_count": null,
   "metadata": {},
   "outputs": [],
   "source": [
    "# Reemplazamos NaN con ''\n",
    "nyc['Events'] = nyc.Events.fillna('')"
   ]
  },
  {
   "cell_type": "code",
   "execution_count": null,
   "metadata": {},
   "outputs": [],
   "source": [
    "# Ahora todos los datos son str\n",
    "set(nyc.Events.apply(type))"
   ]
  },
  {
   "cell_type": "markdown",
   "metadata": {},
   "source": [
    "<font color='red'>Atención</font>\n",
    "\n",
    "Hay que tener cuidado con la forma en que hacemos selección de datos desde un Dataframe.<br>\n",
    "Hay dos formas:\n",
    "* Attribute assignment\n",
    "* Index assignment"
   ]
  },
  {
   "cell_type": "code",
   "execution_count": null,
   "metadata": {},
   "outputs": [],
   "source": [
    "# Attribute assignment\n",
    "nyc.Events[:2]"
   ]
  },
  {
   "cell_type": "code",
   "execution_count": null,
   "metadata": {},
   "outputs": [],
   "source": [
    "# Index assignment\n",
    "nyc['Events'][:2]"
   ]
  },
  {
   "cell_type": "code",
   "execution_count": null,
   "metadata": {
    "scrolled": true
   },
   "outputs": [],
   "source": [
    "# Convirtamos pulgadas a centímetros\n",
    "# Si multiplicamos una columna (es decir una Serie), estaremos haciendo un *broadcasting*\n",
    "# de la operación a cada celda de la columna\n",
    "nyc.PrecipitationIn * 2.54"
   ]
  },
  {
   "cell_type": "code",
   "execution_count": null,
   "metadata": {},
   "outputs": [],
   "source": [
    "# Pero esto no siempre es posible\n",
    "# el *broadcast* es una atributo de pandas\n",
    "[1,2,3] * 2\n",
    "#[1,2,3] * 2.4\n"
   ]
  },
  {
   "cell_type": "code",
   "execution_count": null,
   "metadata": {
    "scrolled": true
   },
   "outputs": [],
   "source": [
    "# Podemos definir una función para hacer lo mismo, pero será más lento el proceso al no estar vectorizado\n",
    "#   map - works with a dictionary (mapping value to new value),  series (like dict), function\n",
    "#   apply - only works with function as a parameter. Allows extra parameters\n",
    "#   aggregate (agg) - works with function or list of functions. If reducing function, returns a scalar.\n",
    "#   transform - wraps agg and won't do a reduction\n",
    "def to_cm(val):\n",
    "    return val * 2.54\n",
    "\n",
    "nyc.PrecipitationIn.transform(to_cm)"
   ]
  },
  {
   "cell_type": "code",
   "execution_count": null,
   "metadata": {},
   "outputs": [],
   "source": [
    "%%timeit\n",
    "nyc.PrecipitationIn.map(to_cm)"
   ]
  },
  {
   "cell_type": "code",
   "execution_count": null,
   "metadata": {},
   "outputs": [],
   "source": [
    "%%timeit\n",
    "nyc.PrecipitationIn.transform(to_cm)"
   ]
  },
  {
   "cell_type": "code",
   "execution_count": null,
   "metadata": {},
   "outputs": [],
   "source": [
    "%%timeit\n",
    "nyc.PrecipitationIn * 2.54"
   ]
  },
  {
   "cell_type": "code",
   "execution_count": null,
   "metadata": {},
   "outputs": [],
   "source": [
    "%%timeit\n",
    "nyc.PrecipitationIn.aggregate(to_cm)"
   ]
  },
  {
   "cell_type": "code",
   "execution_count": null,
   "metadata": {},
   "outputs": [],
   "source": [
    "%%timeit\n",
    "nyc.PrecipitationIn.apply(to_cm)"
   ]
  },
  {
   "cell_type": "code",
   "execution_count": null,
   "metadata": {},
   "outputs": [],
   "source": [
    "# Podemos añadir y eliminar columnas (axis=1 significa a lo largo del eje columna)\n",
    "nyc['State'] = 'NYC'\n",
    "#nyc = nyc.drop(['State'], axis=1)\n",
    "nyc.T"
   ]
  },
  {
   "cell_type": "markdown",
   "metadata": {},
   "source": [
    "## Asignación con Dataset de El Niño\n",
    "\n",
    "* Reemplaza los puntos y espacios en los nombres de las columnas con guiones bajos\n",
    "* Las temperaturas se almacenan como Celsius. Crea una nueva columna, air_temp_F, usando Fahrenheit (Tf = Tc * 9/5 + 32)\n",
    "* La velocidad del viento está en metros por segundo. Crea nuevas columnas, agregando _kph (1 mps = 3.6 Kph)\n",
    "* Convierta la columna de fecha a un tipo de fecha\n",
    "* Elimina la columna obs"
   ]
  },
  {
   "cell_type": "code",
   "execution_count": null,
   "metadata": {},
   "outputs": [],
   "source": [
    "# Tu código aquí...\n"
   ]
  },
  {
   "cell_type": "code",
   "execution_count": null,
   "metadata": {},
   "outputs": [],
   "source": [
    "# Tu código aquí...\n"
   ]
  },
  {
   "cell_type": "code",
   "execution_count": null,
   "metadata": {},
   "outputs": [],
   "source": [
    "# Tu código aquí...\n"
   ]
  },
  {
   "cell_type": "code",
   "execution_count": null,
   "metadata": {},
   "outputs": [],
   "source": [
    "# Tu código aquí...\n"
   ]
  },
  {
   "cell_type": "code",
   "execution_count": null,
   "metadata": {},
   "outputs": [],
   "source": [
    "# Tu código aquí...\n"
   ]
  },
  {
   "cell_type": "code",
   "execution_count": null,
   "metadata": {},
   "outputs": [],
   "source": [
    "# Tu código aquí...\n"
   ]
  },
  {
   "cell_type": "code",
   "execution_count": null,
   "metadata": {},
   "outputs": [],
   "source": [
    "# Veamos cómo quedó\n"
   ]
  },
  {
   "cell_type": "code",
   "execution_count": null,
   "metadata": {},
   "outputs": [],
   "source": []
  }
 ],
 "metadata": {
  "kernelspec": {
   "display_name": "Python 3",
   "language": "python",
   "name": "python3"
  },
  "language_info": {
   "codemirror_mode": {
    "name": "ipython",
    "version": 3
   },
   "file_extension": ".py",
   "mimetype": "text/x-python",
   "name": "python",
   "nbconvert_exporter": "python",
   "pygments_lexer": "ipython3",
   "version": "3.6.4"
  }
 },
 "nbformat": 4,
 "nbformat_minor": 2
}
